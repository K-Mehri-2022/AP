{
  "nbformat": 4,
  "nbformat_minor": 0,
  "metadata": {
    "colab": {
      "provenance": [],
      "authorship_tag": "ABX9TyMiepGEETrmdK+qtA9KMQfV",
      "include_colab_link": true
    },
    "kernelspec": {
      "name": "python3",
      "display_name": "Python 3"
    },
    "language_info": {
      "name": "python"
    }
  },
  "cells": [
    {
      "cell_type": "markdown",
      "metadata": {
        "id": "view-in-github",
        "colab_type": "text"
      },
      "source": [
        "<a href=\"https://colab.research.google.com/github/K-Mehri-2022/AP/blob/main/P26.ipynb\" target=\"_parent\"><img src=\"https://colab.research.google.com/assets/colab-badge.svg\" alt=\"Open In Colab\"/></a>"
      ]
    },
    {
      "cell_type": "code",
      "execution_count": null,
      "metadata": {
        "id": "NiHq1iFJzgb1"
      },
      "outputs": [],
      "source": [
        "lst = [[1,1,1],\n",
        "      [1,1,1],\n",
        "      [1,1,1]]\n",
        "\n",
        "def check(lst):\n",
        "    for i in range(3):\n",
        "        for j in range(3):\n",
        "            if i == j:\n",
        "                print(\"True\")\n",
        "\n",
        "            else:\n",
        "                print(\"False\")\n",
        "\n",
        "print(check(lst))"
      ]
    }
  ]
}