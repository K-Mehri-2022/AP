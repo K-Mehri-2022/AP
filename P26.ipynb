{
  "nbformat": 4,
  "nbformat_minor": 0,
  "metadata": {
    "colab": {
      "provenance": [],
      "authorship_tag": "ABX9TyMoxSAJ4nGlCFaVRSPSZxDW",
      "include_colab_link": true
    },
    "kernelspec": {
      "name": "python3",
      "display_name": "Python 3"
    },
    "language_info": {
      "name": "python"
    }
  },
  "cells": [
    {
      "cell_type": "markdown",
      "metadata": {
        "id": "view-in-github",
        "colab_type": "text"
      },
      "source": [
        "<a href=\"https://colab.research.google.com/github/K-Mehri-2022/AP/blob/main/P26.ipynb\" target=\"_parent\"><img src=\"https://colab.research.google.com/assets/colab-badge.svg\" alt=\"Open In Colab\"/></a>"
      ]
    },
    {
      "cell_type": "code",
      "execution_count": 2,
      "metadata": {
        "colab": {
          "base_uri": "https://localhost:8080/"
        },
        "id": "QLdNiTTF9SPZ",
        "outputId": "7ba6631f-adae-474f-9b10-ff48d4029647"
      },
      "outputs": [
        {
          "output_type": "stream",
          "name": "stdout",
          "text": [
            "True\n"
          ]
        }
      ],
      "source": [
        "m = [[1,2,3],\n",
        "     [2,3,1],\n",
        "     [3,1,2]]\n",
        "\n",
        "def Check(m):\n",
        "    m_length = len(m)\n",
        "    rows = []\n",
        "    columns = []\n",
        "    for i in range(m_length):\n",
        "        A = [m[j][i] for j in range(m_length)]\n",
        "        rows.append(m[i])\n",
        "        columns.append(A)\n",
        "\n",
        "    for _ in rows:\n",
        "        if _ in columns:\n",
        "            a = True\n",
        "            return a\n",
        "        else:\n",
        "            a = False\n",
        "    return a\n",
        "\n",
        "print(Check(m))"
      ]
    }
  ]
}