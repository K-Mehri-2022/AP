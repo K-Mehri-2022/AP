{
  "nbformat": 4,
  "nbformat_minor": 0,
  "metadata": {
    "colab": {
      "provenance": [],
      "authorship_tag": "ABX9TyMsXWuYbmxn60sH2opRaLTW",
      "include_colab_link": true
    },
    "kernelspec": {
      "name": "python3",
      "display_name": "Python 3"
    },
    "language_info": {
      "name": "python"
    }
  },
  "cells": [
    {
      "cell_type": "markdown",
      "metadata": {
        "id": "view-in-github",
        "colab_type": "text"
      },
      "source": [
        "<a href=\"https://colab.research.google.com/github/K-Mehri-2022/AP/blob/main/P08.ipynb\" target=\"_parent\"><img src=\"https://colab.research.google.com/assets/colab-badge.svg\" alt=\"Open In Colab\"/></a>"
      ]
    },
    {
      "cell_type": "code",
      "source": [
        "# Factoriel with while\n",
        "n = int(input(\"Enter an integer value: \"))\n",
        "i = n - 1\n",
        "while i > 0:\n",
        "  n *= i\n",
        "  i -= 1\n",
        "print(\"n! = \",n)\n",
        "\n",
        "  \n",
        "\n"
      ],
      "metadata": {
        "id": "cKH6j-kkgx4L",
        "colab": {
          "base_uri": "https://localhost:8080/"
        },
        "outputId": "94489e25-9351-41fd-935e-9cbc03f2db62"
      },
      "execution_count": 10,
      "outputs": [
        {
          "output_type": "stream",
          "name": "stdout",
          "text": [
            "Enter an integer value: 5\n",
            "n! =  120\n"
          ]
        }
      ]
    }
  ]
}