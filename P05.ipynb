{
  "nbformat": 4,
  "nbformat_minor": 0,
  "metadata": {
    "colab": {
      "provenance": [],
      "authorship_tag": "ABX9TyNqR4BWaXJXWEBEcq4JKbTg",
      "include_colab_link": true
    },
    "kernelspec": {
      "name": "python3",
      "display_name": "Python 3"
    },
    "language_info": {
      "name": "python"
    }
  },
  "cells": [
    {
      "cell_type": "markdown",
      "metadata": {
        "id": "view-in-github",
        "colab_type": "text"
      },
      "source": [
        "<a href=\"https://colab.research.google.com/github/K-Mehri-2022/AP/blob/main/P05.ipynb\" target=\"_parent\"><img src=\"https://colab.research.google.com/assets/colab-badge.svg\" alt=\"Open In Colab\"/></a>"
      ]
    },
    {
      "cell_type": "code",
      "execution_count": 2,
      "metadata": {
        "colab": {
          "base_uri": "https://localhost:8080/"
        },
        "id": "3J0PKGF6fYxQ",
        "outputId": "ba78d6b3-cfa2-4b19-a052-1a1a731ce3f3"
      },
      "outputs": [
        {
          "output_type": "stream",
          "name": "stdout",
          "text": [
            "Enter the days of the week to see the Spanish equivalent: Sunday\n",
            "domingo\n"
          ]
        }
      ],
      "source": [
        "x = str(input(\"Enter the days of the week to see the Spanish equivalent: \"))\n",
        "\n",
        "if x == \"Monday\":\n",
        "    print(\"lunes\")\n",
        "elif x == \"Tuesday\":\n",
        "    print(\"Martes\")\n",
        "elif x == \"Thursday\":\n",
        "    print(\"Jueves\")\n",
        "elif x == \"Wednesday\":\n",
        "    print(\"Miércoles\")\n",
        "elif x == \"Thursday\":\n",
        "    print(\"Jueves\")\n",
        "elif x == \"Friday\":\n",
        "    print(\"Viernes\")\n",
        "elif x == \"Saturday\":\n",
        "    print(\"sábado\")\n",
        "elif x == \"Sunday\":\n",
        "    print(\"domingo\")\n",
        "else:\n",
        "    print(\"This entry is not from weekdays.\")\n",
        "\n",
        "\n"
      ]
    }
  ]
}