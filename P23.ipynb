{
  "nbformat": 4,
  "nbformat_minor": 0,
  "metadata": {
    "colab": {
      "provenance": [],
      "authorship_tag": "ABX9TyP6dAGXMhwR4WGIWal2t7v/",
      "include_colab_link": true
    },
    "kernelspec": {
      "name": "python3",
      "display_name": "Python 3"
    },
    "language_info": {
      "name": "python"
    }
  },
  "cells": [
    {
      "cell_type": "markdown",
      "metadata": {
        "id": "view-in-github",
        "colab_type": "text"
      },
      "source": [
        "<a href=\"https://colab.research.google.com/github/K-Mehri-2022/AP/blob/main/P23.ipynb\" target=\"_parent\"><img src=\"https://colab.research.google.com/assets/colab-badge.svg\" alt=\"Open In Colab\"/></a>"
      ]
    },
    {
      "cell_type": "code",
      "execution_count": 15,
      "metadata": {
        "colab": {
          "base_uri": "https://localhost:8080/"
        },
        "id": "rWp87wKzetjf",
        "outputId": "7e0b77e3-90a9-4021-9c46-611d76ce8c53"
      },
      "outputs": [
        {
          "output_type": "stream",
          "name": "stdout",
          "text": [
            "[-2, 1, 7, 14, 3, 8, 5, 2] None\n"
          ]
        }
      ],
      "source": [
        "lst = [2,5,8,3,14,7,1,-2]\n",
        "result = []\n",
        "def revese(lst):\n",
        "    lst.reverse()\n",
        "    for i in lst:\n",
        "        result.append(i)\n",
        "\n",
        "print(result,revese(lst))"
      ]
    }
  ]
}