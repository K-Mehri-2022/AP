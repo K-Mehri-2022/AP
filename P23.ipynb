{
  "nbformat": 4,
  "nbformat_minor": 0,
  "metadata": {
    "colab": {
      "provenance": [],
      "authorship_tag": "ABX9TyP0uCvLbRZ6MAIUH0JVtley",
      "include_colab_link": true
    },
    "kernelspec": {
      "name": "python3",
      "display_name": "Python 3"
    },
    "language_info": {
      "name": "python"
    }
  },
  "cells": [
    {
      "cell_type": "markdown",
      "metadata": {
        "id": "view-in-github",
        "colab_type": "text"
      },
      "source": [
        "<a href=\"https://colab.research.google.com/github/K-Mehri-2022/AP/blob/main/P23.ipynb\" target=\"_parent\"><img src=\"https://colab.research.google.com/assets/colab-badge.svg\" alt=\"Open In Colab\"/></a>"
      ]
    },
    {
      "cell_type": "code",
      "execution_count": null,
      "metadata": {
        "colab": {
          "base_uri": "https://localhost:8080/"
        },
        "id": "ojtjGJOI03vV",
        "outputId": "01fae43f-e26d-4e64-c8ec-fe4b73843f63"
      },
      "outputs": [
        {
          "output_type": "stream",
          "name": "stdout",
          "text": [
            "[-2, 1, 7, 14, 3, 8, 5, 2] None\n",
            "=====================\n",
            "[-2, 1, 2, 3, 5, 7, 8, 14] None\n"
          ]
        }
      ],
      "source": [
        "# Just reverse\n",
        "lst = [2,5,8,3,14,7,1,-2]\n",
        "result = []\n",
        "def revese(lst):\n",
        "    for i in lst:\n",
        "        result.append(i)\n",
        "    result.reverse()\n",
        "\n",
        "print(result,revese(lst))\n",
        "\n",
        "print(\"=====================\")\n",
        "\n",
        "# sort & reverse\n",
        "lst = [2,5,8,3,14,7,1,-2]\n",
        "result = []\n",
        "def revese(lst):\n",
        "    lst.reverse()\n",
        "    for i in lst:\n",
        "        result.append(i)\n",
        "    result.reverse()\n",
        "    result.sort()\n",
        "\n",
        "print(result,revese(lst))"
      ]
    }
  ]
}