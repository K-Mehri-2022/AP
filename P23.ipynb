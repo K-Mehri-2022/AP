{
  "nbformat": 4,
  "nbformat_minor": 0,
  "metadata": {
    "colab": {
      "provenance": [],
      "authorship_tag": "ABX9TyP9KPGK1WJEW5lQmo9JLGhh",
      "include_colab_link": true
    },
    "kernelspec": {
      "name": "python3",
      "display_name": "Python 3"
    },
    "language_info": {
      "name": "python"
    }
  },
  "cells": [
    {
      "cell_type": "markdown",
      "metadata": {
        "id": "view-in-github",
        "colab_type": "text"
      },
      "source": [
        "<a href=\"https://colab.research.google.com/github/K-Mehri-2022/AP/blob/main/P23.ipynb\" target=\"_parent\"><img src=\"https://colab.research.google.com/assets/colab-badge.svg\" alt=\"Open In Colab\"/></a>"
      ]
    },
    {
      "cell_type": "code",
      "execution_count": 2,
      "metadata": {
        "colab": {
          "base_uri": "https://localhost:8080/"
        },
        "id": "FBQbPIFy2iI9",
        "outputId": "66d72c78-3f98-4119-9f1a-28a11ac69275"
      },
      "outputs": [
        {
          "output_type": "stream",
          "name": "stdout",
          "text": [
            "reverse:  [-2, 1, 7, 14, 3, 8, 5, 2] None\n",
            "=====================\n",
            "reverse & sort : [-2, 1, 2, 3, 5, 7, 8, 14] None\n"
          ]
        }
      ],
      "source": [
        "# Just reverse\n",
        "lst = [2,5,8,3,14,7,1,-2]\n",
        "result = []\n",
        "def revese(lst):\n",
        "    for i in lst:\n",
        "        result.append(i)\n",
        "    result.reverse()\n",
        "\n",
        "print(\"reverse: \",result,revese(lst))\n",
        "\n",
        "print(\"=====================\")\n",
        "\n",
        "# reverse & sort\n",
        "lst = [2,5,8,3,14,7,1,-2]\n",
        "result = []\n",
        "def revese(lst):\n",
        "    lst.reverse()\n",
        "    for i in lst:\n",
        "        result.append(i)\n",
        "    result.reverse()\n",
        "    result.sort()\n",
        "\n",
        "print(\"reverse & sort :\",result,revese(lst))"
      ]
    }
  ]
}