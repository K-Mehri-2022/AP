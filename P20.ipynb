{
  "nbformat": 4,
  "nbformat_minor": 0,
  "metadata": {
    "colab": {
      "provenance": [],
      "authorship_tag": "ABX9TyMGSmuDer2+8iMGxNWlKsC2",
      "include_colab_link": true
    },
    "kernelspec": {
      "name": "python3",
      "display_name": "Python 3"
    },
    "language_info": {
      "name": "python"
    }
  },
  "cells": [
    {
      "cell_type": "markdown",
      "metadata": {
        "id": "view-in-github",
        "colab_type": "text"
      },
      "source": [
        "<a href=\"https://colab.research.google.com/github/K-Mehri-2022/AP/blob/main/P20.ipynb\" target=\"_parent\"><img src=\"https://colab.research.google.com/assets/colab-badge.svg\" alt=\"Open In Colab\"/></a>"
      ]
    },
    {
      "cell_type": "code",
      "execution_count": 2,
      "metadata": {
        "colab": {
          "base_uri": "https://localhost:8080/"
        },
        "id": "rWp87wKzetjf",
        "outputId": "a60a936d-c4af-485c-81c4-afbfba921dad"
      },
      "outputs": [
        {
          "output_type": "stream",
          "name": "stdout",
          "text": [
            "count of evens :  5\n"
          ]
        }
      ],
      "source": [
        "lst = [2,5,8,12,9,-25,4,102]\n",
        "\n",
        "def count_evens(lst):\n",
        "    counter = 0\n",
        "    for i in lst:\n",
        "        if i % 2 == 0:\n",
        "            counter += 1\n",
        "    return counter\n",
        "\n",
        "print(\"count of evens : \", count_evens(lst))"
      ]
    }
  ]
}