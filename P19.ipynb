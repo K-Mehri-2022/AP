{
  "nbformat": 4,
  "nbformat_minor": 0,
  "metadata": {
    "colab": {
      "provenance": [],
      "authorship_tag": "ABX9TyN5j8kGOZJLHKPWfFGx6PWJ",
      "include_colab_link": true
    },
    "kernelspec": {
      "name": "python3",
      "display_name": "Python 3"
    },
    "language_info": {
      "name": "python"
    }
  },
  "cells": [
    {
      "cell_type": "markdown",
      "metadata": {
        "id": "view-in-github",
        "colab_type": "text"
      },
      "source": [
        "<a href=\"https://colab.research.google.com/github/K-Mehri-2022/AP/blob/main/P19.ipynb\" target=\"_parent\"><img src=\"https://colab.research.google.com/assets/colab-badge.svg\" alt=\"Open In Colab\"/></a>"
      ]
    },
    {
      "cell_type": "code",
      "execution_count": 1,
      "metadata": {
        "colab": {
          "base_uri": "https://localhost:8080/"
        },
        "id": "rWp87wKzetjf",
        "outputId": "7f4a5d9e-905e-47ec-8cee-35753c6d5617"
      },
      "outputs": [
        {
          "output_type": "stream",
          "name": "stdout",
          "text": [
            "29\n"
          ]
        }
      ],
      "source": [
        "a = [3,6,-2,1,8,-9,11]\n",
        "\n",
        "def sum_positive(a):\n",
        "    sum = 0\n",
        "    for x in a:\n",
        "        if x > 0:\n",
        "            sum += x\n",
        "\n",
        "    return sum\n",
        "\n",
        "print(sum_positive(a))"
      ]
    }
  ]
}