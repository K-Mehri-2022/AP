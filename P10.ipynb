{
  "nbformat": 4,
  "nbformat_minor": 0,
  "metadata": {
    "colab": {
      "provenance": [],
      "authorship_tag": "ABX9TyP9I8E/tFLWp/yXICU37bOr",
      "include_colab_link": true
    },
    "kernelspec": {
      "name": "python3",
      "display_name": "Python 3"
    },
    "language_info": {
      "name": "python"
    }
  },
  "cells": [
    {
      "cell_type": "markdown",
      "metadata": {
        "id": "view-in-github",
        "colab_type": "text"
      },
      "source": [
        "<a href=\"https://colab.research.google.com/github/K-Mehri-2022/AP/blob/main/P10.ipynb\" target=\"_parent\"><img src=\"https://colab.research.google.com/assets/colab-badge.svg\" alt=\"Open In Colab\"/></a>"
      ]
    },
    {
      "cell_type": "code",
      "execution_count": 6,
      "metadata": {
        "colab": {
          "base_uri": "https://localhost:8080/"
        },
        "id": "ZjtK9UlLvzwP",
        "outputId": "c66896fe-73b7-4ec9-81c0-85c937578616"
      },
      "outputs": [
        {
          "output_type": "stream",
          "name": "stdout",
          "text": [
            "  1   2   3   4   5   6   7   8   9   10 \n",
            "  2   4   6   8   10   12   14   16   18   20 \n",
            "  3   6   9   12   15   18   21   24   27   30 \n",
            "  4   8   12   16   20   24   28   32   36   40 \n",
            "  5   10   15   20   25   30   35   40   45   50 \n",
            "  6   12   18   24   30   36   42   48   54   60 \n",
            "  7   14   21   28   35   42   49   56   63   70 \n",
            "  8   16   24   32   40   48   56   64   72   80 \n",
            "  9   18   27   36   45   54   63   72   81   90 \n",
            "  10   20   30   40   50   60   70   80   90   100 \n"
          ]
        }
      ],
      "source": [
        "# An Example of nesting with a for loop\n",
        "for i in 1,2,3,4,5,6,7,8,9,10:\n",
        "  for j in 1,2,3,4,5,6,7,8,9,10:\n",
        "    print(\" \",i*j,end=\" \")\n",
        "  print()"
      ]
    }
  ]
}