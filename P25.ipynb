{
  "nbformat": 4,
  "nbformat_minor": 0,
  "metadata": {
    "colab": {
      "provenance": [],
      "authorship_tag": "ABX9TyO0MWCepyhXK24KLbIw6ORC",
      "include_colab_link": true
    },
    "kernelspec": {
      "name": "python3",
      "display_name": "Python 3"
    },
    "language_info": {
      "name": "python"
    }
  },
  "cells": [
    {
      "cell_type": "markdown",
      "metadata": {
        "id": "view-in-github",
        "colab_type": "text"
      },
      "source": [
        "<a href=\"https://colab.research.google.com/github/K-Mehri-2022/AP/blob/main/P25.ipynb\" target=\"_parent\"><img src=\"https://colab.research.google.com/assets/colab-badge.svg\" alt=\"Open In Colab\"/></a>"
      ]
    },
    {
      "cell_type": "code",
      "execution_count": 20,
      "metadata": {
        "colab": {
          "base_uri": "https://localhost:8080/"
        },
        "id": "rWp87wKzetjf",
        "outputId": "8f0fcb78-5fba-4f97-898b-636d9847d295"
      },
      "outputs": [
        {
          "output_type": "stream",
          "name": "stdout",
          "text": [
            "[1, 2, 3, 4, 5, 6, 7, 8, 9, 10]\n",
            "=================================\n",
            "[1, 2, 3, 4, 5, 6, 7, 8, 9, 10]\n",
            "=================================\n",
            "[1, 2, 3, 4, 5, 6, 7, 8, 9, 10]\n",
            "=================================\n",
            "[1, 2, 3, 4, 5, 6, 7, 8, 9, 10]\n",
            "=================================\n",
            "[1, 2, 3, 4, 5, 6, 7, 8, 9, 10]\n"
          ]
        }
      ],
      "source": [
        "#Make a list with five ways:\n",
        "\n",
        "# 1:\n",
        "lst = [1, 2, 3, 4, 5, 6, 7, 8, 9, 10]\n",
        "print(lst)\n",
        "\n",
        "print(\"=================================\")\n",
        "\n",
        "# 2:\n",
        "lst = list(range(1,10+1))\n",
        "print(lst)\n",
        "\n",
        "print(\"=================================\")\n",
        "\n",
        "# 3:\n",
        "lst = []\n",
        "for i in range(1,10+1):\n",
        "    lst.append(i)\n",
        "print(lst)\n",
        "\n",
        "print(\"=================================\")\n",
        "\n",
        "# 4:\n",
        "lst = []\n",
        "lst.extend(list(range(1,10+1)))\n",
        "print(lst)\n",
        "\n",
        "print(\"=================================\")\n",
        "\n",
        "# 5:\n",
        "lst = [ x for x in range(1,10+1)]\n",
        "print(lst)"
      ]
    }
  ]
}