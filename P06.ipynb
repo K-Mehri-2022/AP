{
  "nbformat": 4,
  "nbformat_minor": 0,
  "metadata": {
    "colab": {
      "provenance": [],
      "authorship_tag": "ABX9TyNMvomd67XGa109kBzBMAdU",
      "include_colab_link": true
    },
    "kernelspec": {
      "name": "python3",
      "display_name": "Python 3"
    },
    "language_info": {
      "name": "python"
    }
  },
  "cells": [
    {
      "cell_type": "markdown",
      "metadata": {
        "id": "view-in-github",
        "colab_type": "text"
      },
      "source": [
        "<a href=\"https://colab.research.google.com/github/K-Mehri-2022/AP/blob/main/P06.ipynb\" target=\"_parent\"><img src=\"https://colab.research.google.com/assets/colab-badge.svg\" alt=\"Open In Colab\"/></a>"
      ]
    },
    {
      "cell_type": "code",
      "source": [
        "a = int(input(\"Enter first value : \"))\n",
        "b = int(input(\"Enter second value : \"))\n",
        "c = int(input(\"Enter third value : \"))\n",
        "d = int(input(\"Enter forth value : \"))\n",
        "e = int(input(\"Enter fifth value : \"))\n",
        "maximum = a\n",
        "minimum = a\n",
        "if b >= maximum:\n",
        "    maximum = b\n",
        "elif b <= minimum:\n",
        "    minimum = b\n",
        "if c >= maximum:\n",
        "    maximum = c\n",
        "elif c <= minimum:\n",
        "    minimum = c\n",
        "if d >= maximum:\n",
        "    maximum = d\n",
        "elif d <= minimum:\n",
        "    minimum = d\n",
        "if e >= maximum:\n",
        "    maximum = e\n",
        "elif e <= minimum:\n",
        "    minimum = e\n",
        "print(\"minimum:\",minimum,\" & maximum:\", maximum)\n",
        "\n"
      ],
      "metadata": {
        "colab": {
          "base_uri": "https://localhost:8080/"
        },
        "id": "tsB3B36xgIXF",
        "outputId": "591e9214-514e-4593-932c-81be7c38ea44"
      },
      "execution_count": 3,
      "outputs": [
        {
          "output_type": "stream",
          "name": "stdout",
          "text": [
            "Enter first value : 5\n",
            "Enter second value : 3\n",
            "Enter third value : 2\n",
            "Enter forth value : 1\n",
            "Enter fifth value : 7\n",
            "minimum: 1  & maximum: 7\n"
          ]
        }
      ]
    }
  ]
}