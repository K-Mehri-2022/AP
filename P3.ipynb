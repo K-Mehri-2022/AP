{
  "nbformat": 4,
  "nbformat_minor": 0,
  "metadata": {
    "colab": {
      "provenance": [],
      "authorship_tag": "ABX9TyMKTGsZYo7jVzhsuS+8B70U",
      "include_colab_link": true
    },
    "kernelspec": {
      "name": "python3",
      "display_name": "Python 3"
    },
    "language_info": {
      "name": "python"
    }
  },
  "cells": [
    {
      "cell_type": "markdown",
      "metadata": {
        "id": "view-in-github",
        "colab_type": "text"
      },
      "source": [
        "<a href=\"https://colab.research.google.com/github/K-Mehri-2022/AP/blob/main/P3.ipynb\" target=\"_parent\"><img src=\"https://colab.research.google.com/assets/colab-badge.svg\" alt=\"Open In Colab\"/></a>"
      ]
    },
    {
      "cell_type": "code",
      "execution_count": null,
      "metadata": {
        "id": "ArsLN5EGIEVg"
      },
      "outputs": [],
      "source": [
        "# GCD \n",
        "n = int(input(\"Enter number 1 : \"))\n",
        "m = int(input(\"Enter number 2 : \"))\n",
        "temp = 1\n",
        "while m != 0 :\n",
        "  temp = n%m\n",
        "  n = m\n",
        "  m = temp \n",
        "print(\"GCD is \", n)"
      ]
    }
  ]
}