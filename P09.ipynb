{
  "nbformat": 4,
  "nbformat_minor": 0,
  "metadata": {
    "colab": {
      "provenance": [],
      "authorship_tag": "ABX9TyNjYUhzmge/P45zEDeBmQyN",
      "include_colab_link": true
    },
    "kernelspec": {
      "name": "python3",
      "display_name": "Python 3"
    },
    "language_info": {
      "name": "python"
    }
  },
  "cells": [
    {
      "cell_type": "markdown",
      "metadata": {
        "id": "view-in-github",
        "colab_type": "text"
      },
      "source": [
        "<a href=\"https://colab.research.google.com/github/K-Mehri-2022/AP/blob/main/P09.ipynb\" target=\"_parent\"><img src=\"https://colab.research.google.com/assets/colab-badge.svg\" alt=\"Open In Colab\"/></a>"
      ]
    },
    {
      "cell_type": "code",
      "source": [
        "# GCD \n",
        "n = int(input(\"enter first value: \"))\n",
        "m = int(input(\"enter second value: \"))\n",
        "while m != 0:\n",
        "  temp = n%m\n",
        "  n = m\n",
        "  m = temp\n",
        "print(\"GCD is\",n)"
      ],
      "metadata": {
        "colab": {
          "base_uri": "https://localhost:8080/"
        },
        "id": "uA_7uFButPlC",
        "outputId": "8341146a-918d-4349-ebc9-82c3f708a634"
      },
      "execution_count": 13,
      "outputs": [
        {
          "output_type": "stream",
          "name": "stdout",
          "text": [
            "enter first value: 24\n",
            "enter second value: 12\n",
            "GCD is 12\n"
          ]
        }
      ]
    }
  ]
}