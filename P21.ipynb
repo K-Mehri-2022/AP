{
  "nbformat": 4,
  "nbformat_minor": 0,
  "metadata": {
    "colab": {
      "provenance": [],
      "authorship_tag": "ABX9TyMco4yInm2gqSN6NGgadGcx",
      "include_colab_link": true
    },
    "kernelspec": {
      "name": "python3",
      "display_name": "Python 3"
    },
    "language_info": {
      "name": "python"
    }
  },
  "cells": [
    {
      "cell_type": "markdown",
      "metadata": {
        "id": "view-in-github",
        "colab_type": "text"
      },
      "source": [
        "<a href=\"https://colab.research.google.com/github/K-Mehri-2022/AP/blob/main/P21.ipynb\" target=\"_parent\"><img src=\"https://colab.research.google.com/assets/colab-badge.svg\" alt=\"Open In Colab\"/></a>"
      ]
    },
    {
      "cell_type": "code",
      "execution_count": null,
      "metadata": {
        "id": "rWp87wKzetjf"
      },
      "outputs": [],
      "source": [
        "p = [2,7,89,111,215,34,5,23]\n",
        "x = 34\n",
        "result = []\n",
        "def print_big_enough(p, x):\n",
        "    for i in p:\n",
        "        if  i >= x:\n",
        "            result.append(i)\n",
        "\n",
        "print(result,print_big_enough(p , x))\n"
      ]
    }
  ]
}