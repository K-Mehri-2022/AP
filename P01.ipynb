{
  "nbformat": 4,
  "nbformat_minor": 0,
  "metadata": {
    "colab": {
      "provenance": [],
      "authorship_tag": "ABX9TyND+7fHXdTryytP5QIh9muL",
      "include_colab_link": true
    },
    "kernelspec": {
      "name": "python3",
      "display_name": "Python 3"
    },
    "language_info": {
      "name": "python"
    }
  },
  "cells": [
    {
      "cell_type": "markdown",
      "metadata": {
        "id": "view-in-github",
        "colab_type": "text"
      },
      "source": [
        "<a href=\"https://colab.research.google.com/github/K-Mehri-2022/AP/blob/main/P01.ipynb\" target=\"_parent\"><img src=\"https://colab.research.google.com/assets/colab-badge.svg\" alt=\"Open In Colab\"/></a>"
      ]
    },
    {
      "cell_type": "code",
      "execution_count": 4,
      "metadata": {
        "colab": {
          "base_uri": "https://localhost:8080/"
        },
        "id": "81EIr354dDHp",
        "outputId": "e772e334-ae1d-43c4-b27a-eb1c93883ca9"
      },
      "outputs": [
        {
          "output_type": "stream",
          "name": "stdout",
          "text": [
            "2\n",
            "2.5\n",
            "3.75\n",
            "2.75\n"
          ]
        }
      ],
      "source": [
        "# Get the three numbers from the user \n",
        "A =float(input())\n",
        "B =float(input())\n",
        "C =float(input())\n",
        "\n",
        "# Formula for the average of three numbers\n",
        "Average = (A+B+C)/3\n",
        "\n",
        "# Print the average\n",
        "print(Average)\n"
      ]
    }
  ]
}