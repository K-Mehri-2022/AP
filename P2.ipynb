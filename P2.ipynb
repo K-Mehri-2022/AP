{
  "nbformat": 4,
  "nbformat_minor": 0,
  "metadata": {
    "colab": {
      "provenance": [],
      "authorship_tag": "ABX9TyP/XNXxBnOG117x2o/bqTw1",
      "include_colab_link": true
    },
    "kernelspec": {
      "name": "python3",
      "display_name": "Python 3"
    },
    "language_info": {
      "name": "python"
    }
  },
  "cells": [
    {
      "cell_type": "markdown",
      "metadata": {
        "id": "view-in-github",
        "colab_type": "text"
      },
      "source": [
        "<a href=\"https://colab.research.google.com/github/K-Mehri-2022/AP/blob/main/P2.ipynb\" target=\"_parent\"><img src=\"https://colab.research.google.com/assets/colab-badge.svg\" alt=\"Open In Colab\"/></a>"
      ]
    },
    {
      "cell_type": "code",
      "execution_count": 2,
      "metadata": {
        "colab": {
          "base_uri": "https://localhost:8080/"
        },
        "id": "CzVw2pOXCSj0",
        "outputId": "c56ae643-8902-4687-fc50-85d9f07d4d7c"
      },
      "outputs": [
        {
          "output_type": "stream",
          "name": "stdout",
          "text": [
            "Enter an integer number: 5\n",
            "n! =  120\n"
          ]
        }
      ],
      "source": [
        "# Factoriel with while in Python\n",
        "n = int(input(\"Enter an integer number: \"))\n",
        "i = 1\n",
        "while n>=1:\n",
        "  i = i * n \n",
        "  n = n - 1\n",
        "print(\"n! = \", i)"
      ]
    }
  ]
}