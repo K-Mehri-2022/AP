{
  "nbformat": 4,
  "nbformat_minor": 0,
  "metadata": {
    "colab": {
      "provenance": [],
      "authorship_tag": "ABX9TyPcbjHVIPzdBJ1lSM6ON7cD",
      "include_colab_link": true
    },
    "kernelspec": {
      "name": "python3",
      "display_name": "Python 3"
    },
    "language_info": {
      "name": "python"
    }
  },
  "cells": [
    {
      "cell_type": "markdown",
      "metadata": {
        "id": "view-in-github",
        "colab_type": "text"
      },
      "source": [
        "<a href=\"https://colab.research.google.com/github/K-Mehri-2022/AP/blob/main/P27.ipynb\" target=\"_parent\"><img src=\"https://colab.research.google.com/assets/colab-badge.svg\" alt=\"Open In Colab\"/></a>"
      ]
    },
    {
      "cell_type": "code",
      "execution_count": null,
      "metadata": {
        "id": "NiHq1iFJzgb1"
      },
      "outputs": [],
      "source": [
        "board = [[' ', ' ', ' '],\n",
        "         [' ', ' ', ' '],\n",
        "         [' ', ' ', ' '],\n",
        "         [' ', ' ', ' '],\n",
        "         [' ', ' ', ' '],\n",
        "         [' ', ' ', ' '],\n",
        "         [' ', ' ', ' ']]\n",
        "decorator = ['x,o']\n",
        "def check_winner(board, decorator):\n",
        "    win = True\n",
        "    for row in range(len(board)):\n",
        "        for col in range(len(board)):\n",
        "            if board[row][col] == decorator:\n",
        "                win = True\n",
        "            else:\n",
        "                win = False\n",
        "                break\n",
        "print(check_winner(board,decorator))"
      ]
    }
  ]
}