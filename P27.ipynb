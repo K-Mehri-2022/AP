{
  "nbformat": 4,
  "nbformat_minor": 0,
  "metadata": {
    "colab": {
      "provenance": [],
      "authorship_tag": "ABX9TyOP19jDV8uw+PO/Q2BD8Bh9",
      "include_colab_link": true
    },
    "kernelspec": {
      "name": "python3",
      "display_name": "Python 3"
    },
    "language_info": {
      "name": "python"
    }
  },
  "cells": [
    {
      "cell_type": "markdown",
      "metadata": {
        "id": "view-in-github",
        "colab_type": "text"
      },
      "source": [
        "<a href=\"https://colab.research.google.com/github/K-Mehri-2022/AP/blob/main/P27.ipynb\" target=\"_parent\"><img src=\"https://colab.research.google.com/assets/colab-badge.svg\" alt=\"Open In Colab\"/></a>"
      ]
    },
    {
      "cell_type": "code",
      "execution_count": 1,
      "metadata": {
        "colab": {
          "base_uri": "https://localhost:8080/"
        },
        "id": "4f-PA58oXoKr",
        "outputId": "a2c9813d-89f7-4720-c9cf-0165aa74725b"
      },
      "outputs": [
        {
          "output_type": "stream",
          "name": "stdout",
          "text": [
            "o\n"
          ]
        }
      ],
      "source": [
        "lst = [[\"x\",\"o\",\"o\"],\n",
        "       [\"x\",\"o\",\"x\"],\n",
        "       [\"o\",\"o\",\"x\"]]\n",
        "\n",
        "def check_winner(lst):\n",
        "       flag = False\n",
        "\n",
        "# For rows\n",
        "       for x in lst:\n",
        "              if len(list(x)) == 1:\n",
        "                     flag = True\n",
        "                     i = x[0]\n",
        "                     return i\n",
        "\n",
        "# For columns\n",
        "       for i in range(2+1):\n",
        "              y = [lst[j][i] for j in range(3)]\n",
        "              if len(list(y)) == 1:\n",
        "                     flag = True\n",
        "                     j = y[0]\n",
        "                     return j\n",
        "\n",
        "       for i in range(2+1):\n",
        "              for j in range(2+1):\n",
        "                     if lst[0][1] == lst[1][1] == lst[2][1] or lst[0][1] == lst[1][1] == lst[2][2]:\n",
        "                            winner = lst[1][1]\n",
        "                            return winner\n",
        "\n",
        "       if flag:\n",
        "              return \" \"\n",
        "\n",
        "print(check_winner(lst))\n",
        "     "
      ]
    }
  ]
}