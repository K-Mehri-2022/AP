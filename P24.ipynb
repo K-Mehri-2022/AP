{
  "nbformat": 4,
  "nbformat_minor": 0,
  "metadata": {
    "colab": {
      "provenance": [],
      "authorship_tag": "ABX9TyOL0hIp7atjTlqv1gLd+DJX",
      "include_colab_link": true
    },
    "kernelspec": {
      "name": "python3",
      "display_name": "Python 3"
    },
    "language_info": {
      "name": "python"
    }
  },
  "cells": [
    {
      "cell_type": "markdown",
      "metadata": {
        "id": "view-in-github",
        "colab_type": "text"
      },
      "source": [
        "<a href=\"https://colab.research.google.com/github/K-Mehri-2022/AP/blob/main/P24.ipynb\" target=\"_parent\"><img src=\"https://colab.research.google.com/assets/colab-badge.svg\" alt=\"Open In Colab\"/></a>"
      ]
    },
    {
      "cell_type": "code",
      "execution_count": 16,
      "metadata": {
        "colab": {
          "base_uri": "https://localhost:8080/"
        },
        "id": "rWp87wKzetjf",
        "outputId": "8db60b20-79b8-41aa-cd1b-7a3741c432a9"
      },
      "outputs": [
        {
          "output_type": "stream",
          "name": "stdout",
          "text": [
            "1 1 1 1 1 1 1 1 1 \n",
            "1 1 1 1 1 1 1 1 1 \n",
            "1 1 1 1 1 1 1 1 1 \n",
            "1 1 1 1 1 1 1 1 1 \n",
            "1 1 1 1 1 1 1 1 1 \n",
            "1 1 1 1 1 1 1 1 1 \n",
            "===========================\n",
            "1 1 1 1 1 1 1 1 1 \n",
            "1 1 1 1 1 1 1 1 1 \n",
            "1 1 1 1 0 1 1 1 1 \n",
            "1 1 1 1 1 1 1 1 1 \n",
            "1 1 1 1 1 1 1 1 1 \n",
            "1 1 1 1 1 1 1 1 1 \n"
          ]
        }
      ],
      "source": [
        "m = [[1, 1, 1, 1, 1, 1, 1, 1, 1],\n",
        "     [1, 1, 1, 1, 1, 1, 1, 1, 1],\n",
        "     [1, 1, 1, 1, 1, 1, 1, 1, 1],\n",
        "     [1, 1, 1, 1, 1, 1, 1, 1, 1],\n",
        "     [1, 1, 1, 1, 1, 1, 1, 1, 1],\n",
        "     [1, 1, 1, 1, 1, 1, 1, 1, 1]]\n",
        "\n",
        "\n",
        "\n",
        "for i in range(6):\n",
        "    for j in range(9):\n",
        "        print(m[i][j], end=\" \")\n",
        "    print()\n",
        "\n",
        "print(\"===========================\")\n",
        "\n",
        "m = [[1, 1, 1, 1, 1, 1, 1, 1, 1],\n",
        "     [1, 1, 1, 1, 1, 1, 1, 1, 1],\n",
        "     [1, 1, 1, 1, 1, 1, 1, 1, 1],\n",
        "     [1, 1, 1, 1, 1, 1, 1, 1, 1],\n",
        "     [1, 1, 1, 1, 1, 1, 1, 1, 1],\n",
        "     [1, 1, 1, 1, 1, 1, 1, 1, 1]]\n",
        "\n",
        "m[2][4] = 0\n",
        "\n",
        "for i in range(6):\n",
        "    for j in range(9):\n",
        "        print(m[i][j], end=\" \")\n",
        "    print()"
      ]
    }
  ]
}