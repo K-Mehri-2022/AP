{
  "nbformat": 4,
  "nbformat_minor": 0,
  "metadata": {
    "colab": {
      "provenance": [],
      "authorship_tag": "ABX9TyN1rDH2a1t2LFlL2ekgtqGf",
      "include_colab_link": true
    },
    "kernelspec": {
      "name": "python3",
      "display_name": "Python 3"
    },
    "language_info": {
      "name": "python"
    }
  },
  "cells": [
    {
      "cell_type": "markdown",
      "metadata": {
        "id": "view-in-github",
        "colab_type": "text"
      },
      "source": [
        "<a href=\"https://colab.research.google.com/github/K-Mehri-2022/AP/blob/main/P07.ipynb\" target=\"_parent\"><img src=\"https://colab.research.google.com/assets/colab-badge.svg\" alt=\"Open In Colab\"/></a>"
      ]
    },
    {
      "cell_type": "code",
      "source": [
        "a = int(input(\"first number: \"))\n",
        "b = int(input(\"second number: \"))\n",
        "c = int(input(\"third number: \"))\n",
        "d = int(input(\"forth number: \"))\n",
        "e = int(input(\"fifth number: \"))\n",
        "if a==b or a==c or a==d or a==e:\n",
        "    print(\"DUPLICATES : \",a)\n",
        "elif b==a or b==c or b==d or b==e:\n",
        "    print(\"DUPLICATES : \",b)\n",
        "elif c==a or c==b or c==d or c==e:\n",
        "    print(\"DUPLICATES : \",c)\n",
        "elif e==a or e==b or e==c or e==d:\n",
        "    print(\"DUPLICATES : \",e)\n",
        "else:\n",
        "    print(\"ALL UNIQUE\")\n"
      ],
      "metadata": {
        "colab": {
          "base_uri": "https://localhost:8080/"
        },
        "id": "cq4AyTQhgf9L",
        "outputId": "60882557-1f6e-4803-e9c6-823561d25235"
      },
      "execution_count": 5,
      "outputs": [
        {
          "output_type": "stream",
          "name": "stdout",
          "text": [
            "first number: 2\n",
            "second number: 4\n",
            "third number: 6\n",
            "forth number: 6\n",
            "fifth number: 3\n",
            "DUPLICATES :  6\n"
          ]
        }
      ]
    }
  ]
}